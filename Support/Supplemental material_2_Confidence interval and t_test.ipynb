{
 "cells": [
  {
   "cell_type": "code",
   "execution_count": 1,
   "id": "223a624c",
   "metadata": {},
   "outputs": [],
   "source": [
    "import numpy as np\n",
    "from scipy.stats import ttest_rel"
   ]
  },
  {
   "cell_type": "markdown",
   "id": "ea71c79d",
   "metadata": {},
   "source": [
    "# STATISTICS FOR WITHIN GROUPS"
   ]
  },
  {
   "cell_type": "markdown",
   "id": "fc228725",
   "metadata": {},
   "source": [
    "# Accuracy"
   ]
  },
  {
   "cell_type": "code",
   "execution_count": 2,
   "id": "8b022f96",
   "metadata": {},
   "outputs": [],
   "source": [
    "#Data obtained from Visual Turing Test"
   ]
  },
  {
   "cell_type": "code",
   "execution_count": 3,
   "id": "1ad6f587",
   "metadata": {},
   "outputs": [],
   "source": [
    "r_advanced = np.array([0.416, 0.50, 0.40, 0.483])# accuracy for experts with advanced experience\n",
    "r_interm = np.array([0.50, 0.467, 0.467, 0.450 ])# accuracy for experts with intermediary experience"
   ]
  },
  {
   "cell_type": "code",
   "execution_count": 4,
   "id": "f42be561",
   "metadata": {},
   "outputs": [
    {
     "name": "stdout",
     "output_type": "stream",
     "text": [
      "0.45\n",
      "0.471\n"
     ]
    }
   ],
   "source": [
    "print(round(r_advanced.mean(),3))\n",
    "print(round(r_interm.mean(),3))"
   ]
  },
  {
   "cell_type": "code",
   "execution_count": 5,
   "id": "0a1c3325",
   "metadata": {},
   "outputs": [],
   "source": [
    "t_test = ttest_rel(r_advanced, r_interm,)"
   ]
  },
  {
   "cell_type": "code",
   "execution_count": 6,
   "id": "778fabaf",
   "metadata": {},
   "outputs": [
    {
     "name": "stdout",
     "output_type": "stream",
     "text": [
      "Ttest_relResult(statistic=-0.6743271460355288, pvalue=0.5484152049582721)\n"
     ]
    }
   ],
   "source": [
    "print(t_test)# t-test result for accuracy"
   ]
  },
  {
   "cell_type": "code",
   "execution_count": null,
   "id": "96f537f7",
   "metadata": {},
   "outputs": [],
   "source": []
  },
  {
   "cell_type": "markdown",
   "id": "bd6c5598",
   "metadata": {},
   "source": [
    "# Sensitivity"
   ]
  },
  {
   "cell_type": "code",
   "execution_count": 7,
   "id": "077bee55",
   "metadata": {},
   "outputs": [],
   "source": [
    "r_advanced_sens = np.array([0.433, 0.40, 0.367, 0.4333])# sensitiviy for experts with advanced experience\n",
    "r_interm_sens = np.array([0.433, 0.40, 0.40, 0.633])# sensitivity for experts with intermediary experience"
   ]
  },
  {
   "cell_type": "code",
   "execution_count": 8,
   "id": "f562429d",
   "metadata": {},
   "outputs": [],
   "source": [
    "t_test_sens = ttest_rel(r_advanced_sens, r_interm_sens)"
   ]
  },
  {
   "cell_type": "code",
   "execution_count": 9,
   "id": "f7396336",
   "metadata": {},
   "outputs": [
    {
     "name": "stdout",
     "output_type": "stream",
     "text": [
      "Ttest_relResult(statistic=-1.2167465384108442, pvalue=0.3106925737415292)\n"
     ]
    }
   ],
   "source": [
    "print(t_test_sens)#t-test result for sensitivity"
   ]
  },
  {
   "cell_type": "code",
   "execution_count": 10,
   "id": "9e414d62",
   "metadata": {},
   "outputs": [
    {
     "name": "stdout",
     "output_type": "stream",
     "text": [
      "0.408\n",
      "0.466\n"
     ]
    }
   ],
   "source": [
    "print(round(r_advanced_sens.mean(),3))\n",
    "print(round(r_interm_sens.mean(),3))"
   ]
  },
  {
   "cell_type": "markdown",
   "id": "62dad13d",
   "metadata": {},
   "source": [
    "# Specificity"
   ]
  },
  {
   "cell_type": "code",
   "execution_count": 11,
   "id": "e85eee74",
   "metadata": {},
   "outputs": [],
   "source": [
    "r_advanced_spe = np.array([0.40, 0.60, 0.433, 0.533])# specificity for experts with advanced experience\n",
    "r_interm_spe = np.array([0.566, 0.533, 0.533, 0.267])# specificity for experts with intermediary experience"
   ]
  },
  {
   "cell_type": "code",
   "execution_count": 12,
   "id": "ffa1886e",
   "metadata": {},
   "outputs": [],
   "source": [
    "t_test_spe = ttest_rel(r_advanced_spe, r_interm_spe)"
   ]
  },
  {
   "cell_type": "code",
   "execution_count": 13,
   "id": "9eeb45d6",
   "metadata": {},
   "outputs": [
    {
     "name": "stdout",
     "output_type": "stream",
     "text": [
      "Ttest_relResult(statistic=0.17362815973508886, pvalue=0.8732124397897068)\n"
     ]
    }
   ],
   "source": [
    "print(t_test_spe)#t-test result for specificity"
   ]
  },
  {
   "cell_type": "code",
   "execution_count": 14,
   "id": "94639ba5",
   "metadata": {},
   "outputs": [
    {
     "name": "stdout",
     "output_type": "stream",
     "text": [
      "0.492\n",
      "0.475\n"
     ]
    }
   ],
   "source": [
    "print(round(r_advanced_spe.mean(),3))\n",
    "print(round(r_interm_spe.mean(),3))"
   ]
  },
  {
   "cell_type": "markdown",
   "id": "ae30b943",
   "metadata": {},
   "source": [
    "# Confidence interval"
   ]
  },
  {
   "cell_type": "code",
   "execution_count": 15,
   "id": "61aa683e",
   "metadata": {},
   "outputs": [],
   "source": [
    "#ACCURACY"
   ]
  },
  {
   "cell_type": "code",
   "execution_count": 16,
   "id": "9587836f",
   "metadata": {},
   "outputs": [],
   "source": [
    "from scipy.stats import bayes_mvs"
   ]
  },
  {
   "cell_type": "code",
   "execution_count": 17,
   "id": "d7812ace",
   "metadata": {},
   "outputs": [
    {
     "name": "stdout",
     "output_type": "stream",
     "text": [
      "Mean(statistic=0.44975, minmax=(0.37155442749635426, 0.5279455725036457))\n"
     ]
    }
   ],
   "source": [
    "#Advanced readers\n",
    "r_adv_acc_mean, r_adv_acc_var, r_adv_std = bayes_mvs(r_advanced, alpha = 0.95)\n",
    "print(r_adv_acc_mean)"
   ]
  },
  {
   "cell_type": "code",
   "execution_count": 18,
   "id": "39b3175c",
   "metadata": {},
   "outputs": [
    {
     "name": "stdout",
     "output_type": "stream",
     "text": [
      "Mean(statistic=0.47100000000000003, minmax=(0.4376981665486882, 0.5043018334513119))\n"
     ]
    }
   ],
   "source": [
    "#Intermediary readers\n",
    "r_int_acc_mean, r_int_acc_var, r_adv_std = bayes_mvs(r_interm, alpha = 0.95)\n",
    "print(r_int_acc_mean)"
   ]
  },
  {
   "cell_type": "code",
   "execution_count": 19,
   "id": "fa5d04a5",
   "metadata": {},
   "outputs": [],
   "source": [
    "#SENSITIVITY"
   ]
  },
  {
   "cell_type": "code",
   "execution_count": 20,
   "id": "3ba078b2",
   "metadata": {},
   "outputs": [
    {
     "name": "stdout",
     "output_type": "stream",
     "text": [
      "Mean(statistic=0.408325, minmax=(0.35792509461424143, 0.45872490538575855))\n"
     ]
    }
   ],
   "source": [
    "#Advanced readers\n",
    "r_adv_sen, _, _, = bayes_mvs(r_advanced_sens, alpha = 0.95)\n",
    "print(r_adv_sen)"
   ]
  },
  {
   "cell_type": "code",
   "execution_count": 21,
   "id": "97870416",
   "metadata": {},
   "outputs": [
    {
     "name": "stdout",
     "output_type": "stream",
     "text": [
      "Mean(statistic=0.4665, minmax=(0.28814808815305815, 0.6448519118469419))\n"
     ]
    }
   ],
   "source": [
    "#Intermediary readers\n",
    "r_int_sen, _, _, = bayes_mvs(r_interm_sens, alpha = 0.95)\n",
    "print(r_int_sen)"
   ]
  },
  {
   "cell_type": "code",
   "execution_count": 22,
   "id": "8aa98842",
   "metadata": {},
   "outputs": [],
   "source": [
    "#SPECIFICITY "
   ]
  },
  {
   "cell_type": "code",
   "execution_count": 23,
   "id": "9b2db265",
   "metadata": {},
   "outputs": [
    {
     "name": "stdout",
     "output_type": "stream",
     "text": [
      "Mean(statistic=0.49150000000000005, minmax=(0.34540468468413754, 0.6375953153158626))\n"
     ]
    }
   ],
   "source": [
    "#Advanced readers\n",
    "r_adv_spe, _, _, = bayes_mvs(r_advanced_spe, alpha = 0.95)\n",
    "print(r_adv_spe)"
   ]
  },
  {
   "cell_type": "code",
   "execution_count": 24,
   "id": "67d32be0",
   "metadata": {},
   "outputs": [
    {
     "name": "stdout",
     "output_type": "stream",
     "text": [
      "Mean(statistic=0.47475, minmax=(0.25297978436705904, 0.696520215632941))\n"
     ]
    }
   ],
   "source": [
    "#Intermediary readers\n",
    "r_int_spe, _, _, = bayes_mvs(r_interm_spe, alpha = 0.95)\n",
    "print(r_int_spe)"
   ]
  },
  {
   "cell_type": "markdown",
   "id": "f2f1ff26",
   "metadata": {},
   "source": [
    "# STATISTICS OVERALL EXPERIMENT"
   ]
  },
  {
   "cell_type": "code",
   "execution_count": 25,
   "id": "1f41bb43",
   "metadata": {},
   "outputs": [
    {
     "name": "stdout",
     "output_type": "stream",
     "text": [
      "46.05\n",
      "43.7\n",
      "48.29\n"
     ]
    }
   ],
   "source": [
    "#combination of advanced and intermediary readers\n",
    "overall_acc = np.array([50.0, 46.7, 46.7, 45, 41.7, 50, 40, 48.3]) \n",
    "print(round(overall_acc.mean(),2))\n",
    "overall_sen = np.array([43.3, 40, 40, 63, 43.3, 40, 36.7, 43.3])\n",
    "print(round(overall_sen.mean(),2))\n",
    "overall_spe = np.array([56.7, 53.3, 53, 26.7, 40, 60, 43.3, 53.3])\n",
    "print(round(overall_spe.mean(),2))"
   ]
  },
  {
   "cell_type": "code",
   "execution_count": 26,
   "id": "5038ed80",
   "metadata": {},
   "outputs": [
    {
     "name": "stdout",
     "output_type": "stream",
     "text": [
      "Mean(statistic=46.05, minmax=(42.99063988566235, 49.10936011433765))\n",
      "Mean(statistic=43.7, minmax=(36.900493699968116, 50.49950630003189))\n",
      "Mean(statistic=48.287499999999994, minmax=(39.12941098290388, 57.44558901709611))\n"
     ]
    }
   ],
   "source": [
    "CI_acc, _, _ = bayes_mvs(overall_acc, alpha=0.95)\n",
    "CI_sen, _, _ = bayes_mvs(overall_sen, alpha = 0.95)\n",
    "CI_spe, _, _ = bayes_mvs(overall_spe, alpha = 0.95)\n",
    "\n",
    "print(CI_acc)\n",
    "print(CI_sen)\n",
    "print(CI_spe)"
   ]
  },
  {
   "cell_type": "markdown",
   "id": "44315b51",
   "metadata": {},
   "source": [
    "# T-Test for readers vs random guess"
   ]
  },
  {
   "cell_type": "code",
   "execution_count": 27,
   "id": "1fc84ef9",
   "metadata": {},
   "outputs": [],
   "source": [
    "random = np.array([50, 50, 50, 50, 50, 50, 50, 50])"
   ]
  },
  {
   "cell_type": "code",
   "execution_count": 28,
   "id": "d7fcb125",
   "metadata": {},
   "outputs": [
    {
     "name": "stdout",
     "output_type": "stream",
     "text": [
      "Ttest_relResult(statistic=-3.053012866225735, pvalue=0.018504538111167413)\n"
     ]
    }
   ],
   "source": [
    "vs = ttest_rel(overall_acc, random)\n",
    "print(vs)"
   ]
  },
  {
   "cell_type": "code",
   "execution_count": 29,
   "id": "389a3835",
   "metadata": {},
   "outputs": [
    {
     "name": "stdout",
     "output_type": "stream",
     "text": [
      "Ttest_relResult(statistic=0.44216855965210383, pvalue=0.6717060020452486)\n"
     ]
    }
   ],
   "source": [
    "gettting_fake = ttest_rel(random, overall_spe)\n",
    "print(gettting_fake)"
   ]
  },
  {
   "cell_type": "code",
   "execution_count": 30,
   "id": "a6799bd9",
   "metadata": {},
   "outputs": [
    {
     "name": "stdout",
     "output_type": "stream",
     "text": [
      "Ttest_relResult(statistic=2.1909138875707828, pvalue=0.06459157295194755)\n"
     ]
    }
   ],
   "source": [
    "getting_real = ttest_rel(random, overall_sen)\n",
    "print(getting_real)"
   ]
  }
 ],
 "metadata": {
  "kernelspec": {
   "display_name": "Python 3",
   "language": "python",
   "name": "python3"
  },
  "language_info": {
   "codemirror_mode": {
    "name": "ipython",
    "version": 3
   },
   "file_extension": ".py",
   "mimetype": "text/x-python",
   "name": "python",
   "nbconvert_exporter": "python",
   "pygments_lexer": "ipython3",
   "version": "3.8.8"
  }
 },
 "nbformat": 4,
 "nbformat_minor": 5
}
